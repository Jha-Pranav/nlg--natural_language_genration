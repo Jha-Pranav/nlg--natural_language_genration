{
 "cells": [
  {
   "cell_type": "code",
   "execution_count": 1,
   "metadata": {},
   "outputs": [],
   "source": [
    "import json\n",
    "import re\n",
    "import warnings\n",
    "\n",
    "from spacy.tokens import Token, Span, Doc\n",
    "from tornado.template import Template\n",
    "\n",
    "from generator import utils, grammar\n",
    "import numpy as np\n",
    "import pandas as pd\n",
    "\n",
    "from source import ElasticResponse,read_query\n",
    "from generator.search import templatize\n",
    "from generator.utils import load_spacy_model\n",
    "nlp = load_spacy_model()"
   ]
  },
  {
   "cell_type": "code",
   "execution_count": 2,
   "metadata": {},
   "outputs": [],
   "source": [
    "er = ElasticResponse()\n",
    "sql_query = read_query(\"backup\",\"policy_complaint\",\"retention_status\")\n",
    "df = er.get_response(sql_query,{})"
   ]
  },
  {
   "cell_type": "code",
   "execution_count": 3,
   "metadata": {},
   "outputs": [
    {
     "data": {
      "text/html": [
       "<div>\n",
       "<style scoped>\n",
       "    .dataframe tbody tr th:only-of-type {\n",
       "        vertical-align: middle;\n",
       "    }\n",
       "\n",
       "    .dataframe tbody tr th {\n",
       "        vertical-align: top;\n",
       "    }\n",
       "\n",
       "    .dataframe thead th {\n",
       "        text-align: right;\n",
       "    }\n",
       "</style>\n",
       "<table border=\"1\" class=\"dataframe\">\n",
       "  <thead>\n",
       "    <tr style=\"text-align: right;\">\n",
       "      <th></th>\n",
       "      <th>Host Name</th>\n",
       "      <th>STATE</th>\n",
       "      <th>Count</th>\n",
       "    </tr>\n",
       "  </thead>\n",
       "  <tbody>\n",
       "    <tr>\n",
       "      <th>0</th>\n",
       "      <td>MRS-IS-00021</td>\n",
       "      <td>COMPLIANT</td>\n",
       "      <td>1148</td>\n",
       "    </tr>\n",
       "    <tr>\n",
       "      <th>1</th>\n",
       "      <td>MRS-IS-00021</td>\n",
       "      <td>WARNING</td>\n",
       "      <td>2716</td>\n",
       "    </tr>\n",
       "    <tr>\n",
       "      <th>2</th>\n",
       "      <td>MRS-IS-00023</td>\n",
       "      <td>COMPLIANT</td>\n",
       "      <td>1176</td>\n",
       "    </tr>\n",
       "    <tr>\n",
       "      <th>3</th>\n",
       "      <td>MRS-IS-00023</td>\n",
       "      <td>WARNING</td>\n",
       "      <td>1876</td>\n",
       "    </tr>\n",
       "    <tr>\n",
       "      <th>4</th>\n",
       "      <td>RLTIA00007</td>\n",
       "      <td>COMPLIANT</td>\n",
       "      <td>1209</td>\n",
       "    </tr>\n",
       "    <tr>\n",
       "      <th>5</th>\n",
       "      <td>RLTIA00007</td>\n",
       "      <td>WARNING</td>\n",
       "      <td>2511</td>\n",
       "    </tr>\n",
       "    <tr>\n",
       "      <th>6</th>\n",
       "      <td>RLTIA00008</td>\n",
       "      <td>COMPLIANT</td>\n",
       "      <td>1054</td>\n",
       "    </tr>\n",
       "    <tr>\n",
       "      <th>7</th>\n",
       "      <td>RLTIA00008</td>\n",
       "      <td>WARNING</td>\n",
       "      <td>2511</td>\n",
       "    </tr>\n",
       "  </tbody>\n",
       "</table>\n",
       "</div>"
      ],
      "text/plain": [
       "      Host Name      STATE  Count\n",
       "0  MRS-IS-00021  COMPLIANT   1148\n",
       "1  MRS-IS-00021    WARNING   2716\n",
       "2  MRS-IS-00023  COMPLIANT   1176\n",
       "3  MRS-IS-00023    WARNING   1876\n",
       "4    RLTIA00007  COMPLIANT   1209\n",
       "5    RLTIA00007    WARNING   2511\n",
       "6    RLTIA00008  COMPLIANT   1054\n",
       "7    RLTIA00008    WARNING   2511"
      ]
     },
     "execution_count": 3,
     "metadata": {},
     "output_type": "execute_result"
    }
   ],
   "source": [
    "df"
   ]
  },
  {
   "cell_type": "code",
   "execution_count": 17,
   "metadata": {},
   "outputs": [],
   "source": [
    "df = df.pivot(index=\"Host Name\",columns=\"STATE\")\n",
    "df.columns = [c[1] for c in df.columns]"
   ]
  },
  {
   "cell_type": "code",
   "execution_count": 18,
   "metadata": {},
   "outputs": [],
   "source": [
    "df[\"CRITICAL\"] = 0 if not \"CRITICAL\" in df.columns else df[\"CRITICAL\"]"
   ]
  },
  {
   "cell_type": "code",
   "execution_count": 19,
   "metadata": {},
   "outputs": [],
   "source": [
    "df = ((df.transpose()/ df.sum(axis=1)).transpose() * 100).round(2)\n",
    "df.sort_values([\"CRITICAL\",\"WARNING\"],ascending=False,inplace=True)"
   ]
  },
  {
   "cell_type": "code",
   "execution_count": 20,
   "metadata": {},
   "outputs": [],
   "source": [
    "pd.set_option('display.width', 1000)\n",
    "pd.set_option('colheader_justify', 'center')\n",
    "df['Health'] = df.apply(lambda x: \"Red\" if x['CRITICAL']>0 else \"Yellow\",axis=1)\n",
    "df.Health.fillna('Green',inplace=True)"
   ]
  },
  {
   "cell_type": "code",
   "execution_count": 21,
   "metadata": {},
   "outputs": [
    {
     "data": {
      "text/plain": [
       "'<table border=\"1\" class=\"dataframe\">\\n  <thead>\\n    <tr style=\"text-align: center;\">\\n      <th></th>\\n      <th>COMPLIANT</th>\\n      <th>WARNING</th>\\n      <th>CRITICAL</th>\\n      <th>Health</th>\\n    </tr>\\n    <tr>\\n      <th>Host Name</th>\\n      <th></th>\\n      <th></th>\\n      <th></th>\\n      <th></th>\\n    </tr>\\n  </thead>\\n  <tbody>\\n    <tr>\\n      <th>RLTIA00008</th>\\n      <td>29.57</td>\\n      <td>70.43</td>\\n      <td>0.0</td>\\n      <td>Yellow</td>\\n    </tr>\\n    <tr>\\n      <th>MRS-IS-00021</th>\\n      <td>29.71</td>\\n      <td>70.29</td>\\n      <td>0.0</td>\\n      <td>Yellow</td>\\n    </tr>\\n    <tr>\\n      <th>RLTIA00007</th>\\n      <td>32.50</td>\\n      <td>67.50</td>\\n      <td>0.0</td>\\n      <td>Yellow</td>\\n    </tr>\\n    <tr>\\n      <th>MRS-IS-00023</th>\\n      <td>38.53</td>\\n      <td>61.47</td>\\n      <td>0.0</td>\\n      <td>Yellow</td>\\n    </tr>\\n  </tbody>\\n</table>'"
      ]
     },
     "execution_count": 21,
     "metadata": {},
     "output_type": "execute_result"
    }
   ],
   "source": [
    "df.to_html()"
   ]
  },
  {
   "cell_type": "code",
   "execution_count": 22,
   "metadata": {},
   "outputs": [],
   "source": [
    "text = \"\"\"<p><strong>Retention Policy Status:&nbsp;</strong></p>\n",
    "        <p>&nbsp;</p>\n",
    "        <p>This section describes the discrepancies in the backup retention policies created on the server.</p>\n",
    "        <p>&nbsp;</p>\n",
    "        <p><strong>Description</strong>: There are 3 different statuses (Warning, Critical, and Complaint).</p>\n",
    "        <p>&nbsp;</p>\n",
    "        <p>* <em>Critical</em>: Retention policy does not exist on the server but will be available in the document.</p>\n",
    "        <p>* <em>Warning</em>: Retention policy exists on the server but will not be available in the document.</p>\n",
    "        <p>* <em>Complaint</em>: It adheres to the policy.</p>\n",
    "        <p>&nbsp;</p>\"\"\"\n",
    "text = nlp(text)"
   ]
  },
  {
   "cell_type": "code",
   "execution_count": null,
   "metadata": {},
   "outputs": [],
   "source": []
  },
  {
   "cell_type": "code",
   "execution_count": 23,
   "metadata": {},
   "outputs": [],
   "source": [
    "nugget = templatize(text,{} , df)\n"
   ]
  },
  {
   "cell_type": "code",
   "execution_count": 27,
   "metadata": {},
   "outputs": [],
   "source": [
    "html_content = nugget.render(df).decode(\"utf-8\")  + df.drop('Health',axis=1).to_html() \n",
    "html_content += pd.DataFrame(df.groupby('Health').apply(lambda x: ', '.join(x.index)),columns=[\"Hosts\"]).to_html()"
   ]
  },
  {
   "cell_type": "code",
   "execution_count": 29,
   "metadata": {},
   "outputs": [
    {
     "data": {
      "text/html": [
       "<p><strong>Retention Policy Status:&nbsp;</strong></p> <p>&nbsp;</p> <p>This section describes the discrepancies in the backup retention policies created on the server.</p> <p>&nbsp;</p> <p><strong>Description</strong>: There are 3 different statuses (Warning, Critical, and Complaint).</p> <p>&nbsp;</p> <p>* <em>Critical</em>: Retention policy does not exist on the server but will be available in the document.</p> <p>* <em>Warning</em>: Retention policy exists on the server but will not be available in the document.</p> <p>* <em>Complaint</em>: It adheres to the policy.</p> <p>&nbsp;</p><table border=\"1\" class=\"dataframe\">\n",
       "  <thead>\n",
       "    <tr style=\"text-align: center;\">\n",
       "      <th></th>\n",
       "      <th>COMPLIANT</th>\n",
       "      <th>WARNING</th>\n",
       "      <th>CRITICAL</th>\n",
       "    </tr>\n",
       "    <tr>\n",
       "      <th>Host Name</th>\n",
       "      <th></th>\n",
       "      <th></th>\n",
       "      <th></th>\n",
       "    </tr>\n",
       "  </thead>\n",
       "  <tbody>\n",
       "    <tr>\n",
       "      <th>RLTIA00008</th>\n",
       "      <td>29.57</td>\n",
       "      <td>70.43</td>\n",
       "      <td>0.0</td>\n",
       "    </tr>\n",
       "    <tr>\n",
       "      <th>MRS-IS-00021</th>\n",
       "      <td>29.71</td>\n",
       "      <td>70.29</td>\n",
       "      <td>0.0</td>\n",
       "    </tr>\n",
       "    <tr>\n",
       "      <th>RLTIA00007</th>\n",
       "      <td>32.50</td>\n",
       "      <td>67.50</td>\n",
       "      <td>0.0</td>\n",
       "    </tr>\n",
       "    <tr>\n",
       "      <th>MRS-IS-00023</th>\n",
       "      <td>38.53</td>\n",
       "      <td>61.47</td>\n",
       "      <td>0.0</td>\n",
       "    </tr>\n",
       "  </tbody>\n",
       "</table><table border=\"1\" class=\"dataframe\">\n",
       "  <thead>\n",
       "    <tr style=\"text-align: center;\">\n",
       "      <th></th>\n",
       "      <th>Hosts</th>\n",
       "    </tr>\n",
       "    <tr>\n",
       "      <th>Health</th>\n",
       "      <th></th>\n",
       "    </tr>\n",
       "  </thead>\n",
       "  <tbody>\n",
       "    <tr>\n",
       "      <th>Yellow</th>\n",
       "      <td>RLTIA00008, MRS-IS-00021, RLTIA00007, MRS-IS-00023</td>\n",
       "    </tr>\n",
       "  </tbody>\n",
       "</table>"
      ],
      "text/plain": [
       "<IPython.core.display.HTML object>"
      ]
     },
     "execution_count": 29,
     "metadata": {},
     "output_type": "execute_result"
    }
   ],
   "source": [
    "from IPython.core.display import HTML\n",
    "HTML(html_content)"
   ]
  },
  {
   "cell_type": "code",
   "execution_count": 30,
   "metadata": {},
   "outputs": [
    {
     "data": {
      "text/plain": [
       "'<p><strong>Retention Policy Status:&nbsp;</strong></p> <p>&nbsp;</p> <p>This section describes the discrepancies in the backup retention policies created on the server.</p> <p>&nbsp;</p> <p><strong>Description</strong>: There are 3 different statuses (Warning, Critical, and Complaint).</p> <p>&nbsp;</p> <p>* <em>Critical</em>: Retention policy does not exist on the server but will be available in the document.</p> <p>* <em>Warning</em>: Retention policy exists on the server but will not be available in the document.</p> <p>* <em>Complaint</em>: It adheres to the policy.</p> <p>&nbsp;</p><table border=\"1\" class=\"dataframe\">\\n  <thead>\\n    <tr style=\"text-align: center;\">\\n      <th></th>\\n      <th>COMPLIANT</th>\\n      <th>WARNING</th>\\n      <th>CRITICAL</th>\\n    </tr>\\n    <tr>\\n      <th>Host Name</th>\\n      <th></th>\\n      <th></th>\\n      <th></th>\\n    </tr>\\n  </thead>\\n  <tbody>\\n    <tr>\\n      <th>RLTIA00008</th>\\n      <td>29.57</td>\\n      <td>70.43</td>\\n      <td>0.0</td>\\n    </tr>\\n    <tr>\\n      <th>MRS-IS-00021</th>\\n      <td>29.71</td>\\n      <td>70.29</td>\\n      <td>0.0</td>\\n    </tr>\\n    <tr>\\n      <th>RLTIA00007</th>\\n      <td>32.50</td>\\n      <td>67.50</td>\\n      <td>0.0</td>\\n    </tr>\\n    <tr>\\n      <th>MRS-IS-00023</th>\\n      <td>38.53</td>\\n      <td>61.47</td>\\n      <td>0.0</td>\\n    </tr>\\n  </tbody>\\n</table><table border=\"1\" class=\"dataframe\">\\n  <thead>\\n    <tr style=\"text-align: center;\">\\n      <th></th>\\n      <th>Hosts</th>\\n    </tr>\\n    <tr>\\n      <th>Health</th>\\n      <th></th>\\n    </tr>\\n  </thead>\\n  <tbody>\\n    <tr>\\n      <th>Yellow</th>\\n      <td>RLTIA00008, MRS-IS-00021, RLTIA00007, MRS-IS-00023</td>\\n    </tr>\\n  </tbody>\\n</table>'"
      ]
     },
     "execution_count": 30,
     "metadata": {},
     "output_type": "execute_result"
    }
   ],
   "source": [
    "html_content"
   ]
  },
  {
   "cell_type": "code",
   "execution_count": null,
   "metadata": {},
   "outputs": [],
   "source": []
  }
 ],
 "metadata": {
  "kernelspec": {
   "display_name": "Python 3",
   "language": "python",
   "name": "python3"
  },
  "language_info": {
   "codemirror_mode": {
    "name": "ipython",
    "version": 3
   },
   "file_extension": ".py",
   "mimetype": "text/x-python",
   "name": "python",
   "nbconvert_exporter": "python",
   "pygments_lexer": "ipython3",
   "version": "3.7.4"
  }
 },
 "nbformat": 4,
 "nbformat_minor": 2
}
